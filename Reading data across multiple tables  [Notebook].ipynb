{
 "cells": [
  {
   "cell_type": "markdown",
   "id": "51b1254d",
   "metadata": {},
   "source": [
    "<div align=\"right\" style=\" font-size: 80%; text-align: center; margin: 0 auto\">\n",
    "<img\n",
    " src=\"https://raw.githubusercontent.com/Explore-AI/Pictures/master/alx-courses/aice/assets/Content_page_banner_blue_dots.png\"\n",
    " alt=\"ALX Content Header\"\n",
    " class=\"full-width-image\"\n",
    "/>\n",
    "</div>"
   ]
  },
  {
   "cell_type": "markdown",
   "id": "f662d169",
   "metadata": {},
   "source": [
    "# Reading data across multiple tables"
   ]
  },
  {
   "cell_type": "markdown",
   "id": "26af890c",
   "metadata": {},
   "source": [
    "In this exercise, we will learn how to read data from a sample database for a digital media company called Chinook that has tables for artists, albums, media tracks, invoices, and customers. "
   ]
  },
  {
   "cell_type": "markdown",
   "id": "2d230d14",
   "metadata": {},
   "source": [
    "## Learning objectives\n",
    "\n",
    "By the end of this train, you should be able to:\n",
    "- Read data from a single column in a single table.\n",
    "- Read data from multiple columns in a single table.\n",
    "- Read data from multiple columns in multiple tables."
   ]
  },
  {
   "cell_type": "markdown",
   "id": "7fd5e3b8",
   "metadata": {},
   "source": [
    "First, let's load our sample database: You can download the chinook zip file from [here](https://github.com/Explore-AI/Public-Data/blob/master/Data/SQL/Chinook_db.zip)"
   ]
  },
  {
   "cell_type": "code",
   "execution_count": 1,
   "id": "2d0d820e",
   "metadata": {},
   "outputs": [],
   "source": [
    "# Load and activate the SQL extension to allow us to execute SQL in a Jupyter notebook.\n",
    "%load_ext sql\n"
   ]
  },
  {
   "cell_type": "code",
   "execution_count": 2,
   "id": "599e3c6c",
   "metadata": {},
   "outputs": [
    {
     "data": {
      "text/plain": [
       "'Connected: @chinook.db'"
      ]
     },
     "execution_count": 2,
     "metadata": {},
     "output_type": "execute_result"
    }
   ],
   "source": [
    "# Load the Chinook database stored in your local machine. \n",
    "# Make sure the file is saved in the same folder as this notebook.\n",
    "%sql sqlite:///chinook.db"
   ]
  },
  {
   "cell_type": "markdown",
   "id": "06af8b46",
   "metadata": {},
   "source": [
    "Here is a [view](https://www.lucidchart.com/pages/er-diagrams) of all of our tables in the database:"
   ]
  },
  {
   "cell_type": "markdown",
   "id": "e3d3c848",
   "metadata": {},
   "source": [
    "<div align=\"center\" style=\" font-size: 80%; text-align: center; margin: 0 auto\">\n",
    "<img src=\"https://github.com/Explore-AI/Pictures/blob/master/sqlite-sample-database-color.jpg?raw=true\"  style=\"width:500px\";/>\n",
    "<br>\n",
    "<br>\n",
    "    <em>Figure 1: Chinook ERD</em>\n",
    "</div>\n"
   ]
  },
  {
   "cell_type": "markdown",
   "id": "653e9dbb",
   "metadata": {},
   "source": [
    "[Image source](https://www.sqlitetutorial.net/sqlite-sample-database/)"
   ]
  },
  {
   "cell_type": "markdown",
   "id": "920e89d2",
   "metadata": {},
   "source": [
    "## Reading data from a database\n",
    "\n",
    "When reading data from a database like the Chinook database, we can read from a single column in a single table, multiple columns in a single table, or multiple columns in various tables within the database.\n",
    "\n",
    "Let's explore the differences between the above queries."
   ]
  },
  {
   "cell_type": "markdown",
   "id": "466e53c1",
   "metadata": {},
   "source": [
    "### 1. Reading data from a single column in a single table in the database.\n",
    "\n",
    "Let's write a query that returns the names of all Chinook digital media store customers.\n",
    "\n",
    "For this query, we would need to read data from the `FirstName` column in the `customers` table (see ER diagram above)."
   ]
  },
  {
   "cell_type": "code",
   "execution_count": 3,
   "id": "1e4cfcc8-9e48-40de-9434-3a5a5e54bf18",
   "metadata": {},
   "outputs": [
    {
     "name": "stdout",
     "output_type": "stream",
     "text": [
      " * sqlite:///chinook.db\n",
      "Done.\n"
     ]
    },
    {
     "data": {
      "text/html": [
       "<table>\n",
       "    <thead>\n",
       "        <tr>\n",
       "            <th>name</th>\n",
       "        </tr>\n",
       "    </thead>\n",
       "    <tbody>\n",
       "        <tr>\n",
       "            <td>albums</td>\n",
       "        </tr>\n",
       "        <tr>\n",
       "            <td>sqlite_sequence</td>\n",
       "        </tr>\n",
       "        <tr>\n",
       "            <td>artists</td>\n",
       "        </tr>\n",
       "        <tr>\n",
       "            <td>customers</td>\n",
       "        </tr>\n",
       "        <tr>\n",
       "            <td>employees</td>\n",
       "        </tr>\n",
       "        <tr>\n",
       "            <td>genres</td>\n",
       "        </tr>\n",
       "        <tr>\n",
       "            <td>invoices</td>\n",
       "        </tr>\n",
       "        <tr>\n",
       "            <td>invoice_items</td>\n",
       "        </tr>\n",
       "        <tr>\n",
       "            <td>media_types</td>\n",
       "        </tr>\n",
       "        <tr>\n",
       "            <td>playlists</td>\n",
       "        </tr>\n",
       "        <tr>\n",
       "            <td>playlist_track</td>\n",
       "        </tr>\n",
       "        <tr>\n",
       "            <td>tracks</td>\n",
       "        </tr>\n",
       "        <tr>\n",
       "            <td>sqlite_stat1</td>\n",
       "        </tr>\n",
       "    </tbody>\n",
       "</table>"
      ],
      "text/plain": [
       "[('albums',),\n",
       " ('sqlite_sequence',),\n",
       " ('artists',),\n",
       " ('customers',),\n",
       " ('employees',),\n",
       " ('genres',),\n",
       " ('invoices',),\n",
       " ('invoice_items',),\n",
       " ('media_types',),\n",
       " ('playlists',),\n",
       " ('playlist_track',),\n",
       " ('tracks',),\n",
       " ('sqlite_stat1',)]"
      ]
     },
     "execution_count": 3,
     "metadata": {},
     "output_type": "execute_result"
    }
   ],
   "source": [
    "%sql SELECT name FROM sqlite_master WHERE type='table';"
   ]
  },
  {
   "cell_type": "code",
   "execution_count": 6,
   "id": "038f28ea",
   "metadata": {},
   "outputs": [
    {
     "name": "stdout",
     "output_type": "stream",
     "text": [
      " * sqlite:///chinook.db\n",
      "Done.\n"
     ]
    },
    {
     "data": {
      "text/html": [
       "<table>\n",
       "    <thead>\n",
       "        <tr>\n",
       "            <th>CustomerId</th>\n",
       "            <th>FirstName</th>\n",
       "            <th>LastName</th>\n",
       "            <th>Company</th>\n",
       "            <th>Address</th>\n",
       "            <th>City</th>\n",
       "            <th>State</th>\n",
       "            <th>Country</th>\n",
       "            <th>PostalCode</th>\n",
       "            <th>Phone</th>\n",
       "            <th>Fax</th>\n",
       "            <th>Email</th>\n",
       "            <th>SupportRepId</th>\n",
       "        </tr>\n",
       "    </thead>\n",
       "    <tbody>\n",
       "        <tr>\n",
       "            <td>1</td>\n",
       "            <td>Luís</td>\n",
       "            <td>Gonçalves</td>\n",
       "            <td>Embraer - Empresa Brasileira de Aeronáutica S.A.</td>\n",
       "            <td>Av. Brigadeiro Faria Lima, 2170</td>\n",
       "            <td>São José dos Campos</td>\n",
       "            <td>SP</td>\n",
       "            <td>Brazil</td>\n",
       "            <td>12227-000</td>\n",
       "            <td>+55 (12) 3923-5555</td>\n",
       "            <td>+55 (12) 3923-5566</td>\n",
       "            <td>luisg@embraer.com.br</td>\n",
       "            <td>3</td>\n",
       "        </tr>\n",
       "        <tr>\n",
       "            <td>2</td>\n",
       "            <td>Leonie</td>\n",
       "            <td>Köhler</td>\n",
       "            <td>None</td>\n",
       "            <td>Theodor-Heuss-Straße 34</td>\n",
       "            <td>Stuttgart</td>\n",
       "            <td>None</td>\n",
       "            <td>Germany</td>\n",
       "            <td>70174</td>\n",
       "            <td>+49 0711 2842222</td>\n",
       "            <td>None</td>\n",
       "            <td>leonekohler@surfeu.de</td>\n",
       "            <td>5</td>\n",
       "        </tr>\n",
       "        <tr>\n",
       "            <td>3</td>\n",
       "            <td>François</td>\n",
       "            <td>Tremblay</td>\n",
       "            <td>None</td>\n",
       "            <td>1498 rue Bélanger</td>\n",
       "            <td>Montréal</td>\n",
       "            <td>QC</td>\n",
       "            <td>Canada</td>\n",
       "            <td>H2G 1A7</td>\n",
       "            <td>+1 (514) 721-4711</td>\n",
       "            <td>None</td>\n",
       "            <td>ftremblay@gmail.com</td>\n",
       "            <td>3</td>\n",
       "        </tr>\n",
       "        <tr>\n",
       "            <td>4</td>\n",
       "            <td>Bjørn</td>\n",
       "            <td>Hansen</td>\n",
       "            <td>None</td>\n",
       "            <td>Ullevålsveien 14</td>\n",
       "            <td>Oslo</td>\n",
       "            <td>None</td>\n",
       "            <td>Norway</td>\n",
       "            <td>0171</td>\n",
       "            <td>+47 22 44 22 22</td>\n",
       "            <td>None</td>\n",
       "            <td>bjorn.hansen@yahoo.no</td>\n",
       "            <td>4</td>\n",
       "        </tr>\n",
       "        <tr>\n",
       "            <td>5</td>\n",
       "            <td>František</td>\n",
       "            <td>Wichterlová</td>\n",
       "            <td>JetBrains s.r.o.</td>\n",
       "            <td>Klanova 9/506</td>\n",
       "            <td>Prague</td>\n",
       "            <td>None</td>\n",
       "            <td>Czech Republic</td>\n",
       "            <td>14700</td>\n",
       "            <td>+420 2 4172 5555</td>\n",
       "            <td>+420 2 4172 5555</td>\n",
       "            <td>frantisekw@jetbrains.com</td>\n",
       "            <td>4</td>\n",
       "        </tr>\n",
       "        <tr>\n",
       "            <td>6</td>\n",
       "            <td>Helena</td>\n",
       "            <td>Holý</td>\n",
       "            <td>None</td>\n",
       "            <td>Rilská 3174/6</td>\n",
       "            <td>Prague</td>\n",
       "            <td>None</td>\n",
       "            <td>Czech Republic</td>\n",
       "            <td>14300</td>\n",
       "            <td>+420 2 4177 0449</td>\n",
       "            <td>None</td>\n",
       "            <td>hholy@gmail.com</td>\n",
       "            <td>5</td>\n",
       "        </tr>\n",
       "        <tr>\n",
       "            <td>7</td>\n",
       "            <td>Astrid</td>\n",
       "            <td>Gruber</td>\n",
       "            <td>None</td>\n",
       "            <td>Rotenturmstraße 4, 1010 Innere Stadt</td>\n",
       "            <td>Vienne</td>\n",
       "            <td>None</td>\n",
       "            <td>Austria</td>\n",
       "            <td>1010</td>\n",
       "            <td>+43 01 5134505</td>\n",
       "            <td>None</td>\n",
       "            <td>astrid.gruber@apple.at</td>\n",
       "            <td>5</td>\n",
       "        </tr>\n",
       "        <tr>\n",
       "            <td>8</td>\n",
       "            <td>Daan</td>\n",
       "            <td>Peeters</td>\n",
       "            <td>None</td>\n",
       "            <td>Grétrystraat 63</td>\n",
       "            <td>Brussels</td>\n",
       "            <td>None</td>\n",
       "            <td>Belgium</td>\n",
       "            <td>1000</td>\n",
       "            <td>+32 02 219 03 03</td>\n",
       "            <td>None</td>\n",
       "            <td>daan_peeters@apple.be</td>\n",
       "            <td>4</td>\n",
       "        </tr>\n",
       "        <tr>\n",
       "            <td>9</td>\n",
       "            <td>Kara</td>\n",
       "            <td>Nielsen</td>\n",
       "            <td>None</td>\n",
       "            <td>Sønder Boulevard 51</td>\n",
       "            <td>Copenhagen</td>\n",
       "            <td>None</td>\n",
       "            <td>Denmark</td>\n",
       "            <td>1720</td>\n",
       "            <td>+453 3331 9991</td>\n",
       "            <td>None</td>\n",
       "            <td>kara.nielsen@jubii.dk</td>\n",
       "            <td>4</td>\n",
       "        </tr>\n",
       "        <tr>\n",
       "            <td>10</td>\n",
       "            <td>Eduardo</td>\n",
       "            <td>Martins</td>\n",
       "            <td>Woodstock Discos</td>\n",
       "            <td>Rua Dr. Falcão Filho, 155</td>\n",
       "            <td>São Paulo</td>\n",
       "            <td>SP</td>\n",
       "            <td>Brazil</td>\n",
       "            <td>01007-010</td>\n",
       "            <td>+55 (11) 3033-5446</td>\n",
       "            <td>+55 (11) 3033-4564</td>\n",
       "            <td>eduardo@woodstock.com.br</td>\n",
       "            <td>4</td>\n",
       "        </tr>\n",
       "    </tbody>\n",
       "</table>"
      ],
      "text/plain": [
       "[(1, 'Luís', 'Gonçalves', 'Embraer - Empresa Brasileira de Aeronáutica S.A.', 'Av. Brigadeiro Faria Lima, 2170', 'São José dos Campos', 'SP', 'Brazil', '12227-000', '+55 (12) 3923-5555', '+55 (12) 3923-5566', 'luisg@embraer.com.br', 3),\n",
       " (2, 'Leonie', 'Köhler', None, 'Theodor-Heuss-Straße 34', 'Stuttgart', None, 'Germany', '70174', '+49 0711 2842222', None, 'leonekohler@surfeu.de', 5),\n",
       " (3, 'François', 'Tremblay', None, '1498 rue Bélanger', 'Montréal', 'QC', 'Canada', 'H2G 1A7', '+1 (514) 721-4711', None, 'ftremblay@gmail.com', 3),\n",
       " (4, 'Bjørn', 'Hansen', None, 'Ullevålsveien 14', 'Oslo', None, 'Norway', '0171', '+47 22 44 22 22', None, 'bjorn.hansen@yahoo.no', 4),\n",
       " (5, 'František', 'Wichterlová', 'JetBrains s.r.o.', 'Klanova 9/506', 'Prague', None, 'Czech Republic', '14700', '+420 2 4172 5555', '+420 2 4172 5555', 'frantisekw@jetbrains.com', 4),\n",
       " (6, 'Helena', 'Holý', None, 'Rilská 3174/6', 'Prague', None, 'Czech Republic', '14300', '+420 2 4177 0449', None, 'hholy@gmail.com', 5),\n",
       " (7, 'Astrid', 'Gruber', None, 'Rotenturmstraße 4, 1010 Innere Stadt', 'Vienne', None, 'Austria', '1010', '+43 01 5134505', None, 'astrid.gruber@apple.at', 5),\n",
       " (8, 'Daan', 'Peeters', None, 'Grétrystraat 63', 'Brussels', None, 'Belgium', '1000', '+32 02 219 03 03', None, 'daan_peeters@apple.be', 4),\n",
       " (9, 'Kara', 'Nielsen', None, 'Sønder Boulevard 51', 'Copenhagen', None, 'Denmark', '1720', '+453 3331 9991', None, 'kara.nielsen@jubii.dk', 4),\n",
       " (10, 'Eduardo', 'Martins', 'Woodstock Discos', 'Rua Dr. Falcão Filho, 155', 'São Paulo', 'SP', 'Brazil', '01007-010', '+55 (11) 3033-5446', '+55 (11) 3033-4564', 'eduardo@woodstock.com.br', 4)]"
      ]
     },
     "execution_count": 6,
     "metadata": {},
     "output_type": "execute_result"
    }
   ],
   "source": [
    "%%sql \n",
    "\n",
    "SELECT * \n",
    "FROM customers\n",
    "LIMIT 10;"
   ]
  },
  {
   "cell_type": "markdown",
   "id": "a5084b12",
   "metadata": {},
   "source": [
    "### 2. Reading data from multiple columns in a single table in the database.\n",
    "Let's write a query to find out when each Chinook employee was hired. \n",
    "\n",
    "Looking at the ER diagram above, for this query, we would need to read data from the `FirstName`, `LastName`, and `HireDate` column(s) in the `employees` table.\n"
   ]
  },
  {
   "cell_type": "code",
   "execution_count": 7,
   "id": "c968d875",
   "metadata": {
    "scrolled": true
   },
   "outputs": [
    {
     "name": "stdout",
     "output_type": "stream",
     "text": [
      " * sqlite:///chinook.db\n",
      "Done.\n"
     ]
    },
    {
     "data": {
      "text/html": [
       "<table>\n",
       "    <thead>\n",
       "        <tr>\n",
       "            <th>FirstName</th>\n",
       "            <th>LastName</th>\n",
       "            <th>HireDate</th>\n",
       "        </tr>\n",
       "    </thead>\n",
       "    <tbody>\n",
       "        <tr>\n",
       "            <td>Andrew</td>\n",
       "            <td>Adams</td>\n",
       "            <td>2002-08-14 00:00:00</td>\n",
       "        </tr>\n",
       "        <tr>\n",
       "            <td>Nancy</td>\n",
       "            <td>Edwards</td>\n",
       "            <td>2002-05-01 00:00:00</td>\n",
       "        </tr>\n",
       "        <tr>\n",
       "            <td>Jane</td>\n",
       "            <td>Peacock</td>\n",
       "            <td>2002-04-01 00:00:00</td>\n",
       "        </tr>\n",
       "        <tr>\n",
       "            <td>Margaret</td>\n",
       "            <td>Park</td>\n",
       "            <td>2003-05-03 00:00:00</td>\n",
       "        </tr>\n",
       "        <tr>\n",
       "            <td>Steve</td>\n",
       "            <td>Johnson</td>\n",
       "            <td>2003-10-17 00:00:00</td>\n",
       "        </tr>\n",
       "        <tr>\n",
       "            <td>Michael</td>\n",
       "            <td>Mitchell</td>\n",
       "            <td>2003-10-17 00:00:00</td>\n",
       "        </tr>\n",
       "        <tr>\n",
       "            <td>Robert</td>\n",
       "            <td>King</td>\n",
       "            <td>2004-01-02 00:00:00</td>\n",
       "        </tr>\n",
       "        <tr>\n",
       "            <td>Laura</td>\n",
       "            <td>Callahan</td>\n",
       "            <td>2004-03-04 00:00:00</td>\n",
       "        </tr>\n",
       "    </tbody>\n",
       "</table>"
      ],
      "text/plain": [
       "[('Andrew', 'Adams', '2002-08-14 00:00:00'),\n",
       " ('Nancy', 'Edwards', '2002-05-01 00:00:00'),\n",
       " ('Jane', 'Peacock', '2002-04-01 00:00:00'),\n",
       " ('Margaret', 'Park', '2003-05-03 00:00:00'),\n",
       " ('Steve', 'Johnson', '2003-10-17 00:00:00'),\n",
       " ('Michael', 'Mitchell', '2003-10-17 00:00:00'),\n",
       " ('Robert', 'King', '2004-01-02 00:00:00'),\n",
       " ('Laura', 'Callahan', '2004-03-04 00:00:00')]"
      ]
     },
     "execution_count": 7,
     "metadata": {},
     "output_type": "execute_result"
    }
   ],
   "source": [
    "%%sql\n",
    "\n",
    "SELECT FirstName, LastName, HireDate\n",
    "FROM employees;"
   ]
  },
  {
   "cell_type": "markdown",
   "id": "2a52441f",
   "metadata": {},
   "source": [
    "In the above query, we have specified multiple columns by **separating each column name in the list with a comma**."
   ]
  },
  {
   "cell_type": "markdown",
   "id": "4ce1e7d7",
   "metadata": {},
   "source": [
    "### 3. Reading data from multiple columns in multiple tables in the database.\n",
    "\n",
    "Let's write a query that lists album titles and the corresponding artists.\n",
    "\n",
    "Based on the ER diagram, for this query, we would need to read data from the `Title` column in the `albums` table and the `Name` column in the `artists` table where the `Artistid` in the `artists` table is the same as the `Artistid` in the `albums` table."
   ]
  },
  {
   "cell_type": "code",
   "execution_count": 8,
   "id": "6f5614e2",
   "metadata": {},
   "outputs": [
    {
     "name": "stdout",
     "output_type": "stream",
     "text": [
      " * sqlite:///chinook.db\n",
      "Done.\n"
     ]
    },
    {
     "data": {
      "text/html": [
       "<table>\n",
       "    <thead>\n",
       "        <tr>\n",
       "            <th>Title</th>\n",
       "            <th>Name</th>\n",
       "        </tr>\n",
       "    </thead>\n",
       "    <tbody>\n",
       "        <tr>\n",
       "            <td>For Those About To Rock We Salute You</td>\n",
       "            <td>AC/DC</td>\n",
       "        </tr>\n",
       "        <tr>\n",
       "            <td>For Those About To Rock We Salute You</td>\n",
       "            <td>Accept</td>\n",
       "        </tr>\n",
       "        <tr>\n",
       "            <td>For Those About To Rock We Salute You</td>\n",
       "            <td>Aerosmith</td>\n",
       "        </tr>\n",
       "        <tr>\n",
       "            <td>For Those About To Rock We Salute You</td>\n",
       "            <td>Alanis Morissette</td>\n",
       "        </tr>\n",
       "        <tr>\n",
       "            <td>For Those About To Rock We Salute You</td>\n",
       "            <td>Alice In Chains</td>\n",
       "        </tr>\n",
       "        <tr>\n",
       "            <td>For Those About To Rock We Salute You</td>\n",
       "            <td>Antônio Carlos Jobim</td>\n",
       "        </tr>\n",
       "        <tr>\n",
       "            <td>For Those About To Rock We Salute You</td>\n",
       "            <td>Apocalyptica</td>\n",
       "        </tr>\n",
       "        <tr>\n",
       "            <td>For Those About To Rock We Salute You</td>\n",
       "            <td>Audioslave</td>\n",
       "        </tr>\n",
       "        <tr>\n",
       "            <td>For Those About To Rock We Salute You</td>\n",
       "            <td>BackBeat</td>\n",
       "        </tr>\n",
       "        <tr>\n",
       "            <td>For Those About To Rock We Salute You</td>\n",
       "            <td>Billy Cobham</td>\n",
       "        </tr>\n",
       "    </tbody>\n",
       "</table>"
      ],
      "text/plain": [
       "[('For Those About To Rock We Salute You', 'AC/DC'),\n",
       " ('For Those About To Rock We Salute You', 'Accept'),\n",
       " ('For Those About To Rock We Salute You', 'Aerosmith'),\n",
       " ('For Those About To Rock We Salute You', 'Alanis Morissette'),\n",
       " ('For Those About To Rock We Salute You', 'Alice In Chains'),\n",
       " ('For Those About To Rock We Salute You', 'Antônio Carlos Jobim'),\n",
       " ('For Those About To Rock We Salute You', 'Apocalyptica'),\n",
       " ('For Those About To Rock We Salute You', 'Audioslave'),\n",
       " ('For Those About To Rock We Salute You', 'BackBeat'),\n",
       " ('For Those About To Rock We Salute You', 'Billy Cobham')]"
      ]
     },
     "execution_count": 8,
     "metadata": {},
     "output_type": "execute_result"
    }
   ],
   "source": [
    "%%sql\n",
    "\n",
    "SELECT albums.Title, artists.Name\n",
    "FROM albums, artists\n",
    "LIMIT 10; "
   ]
  },
  {
   "cell_type": "markdown",
   "id": "683c46d6",
   "metadata": {},
   "source": [
    "In the above query, we used a dot convention to tell SQL which table each selected column belongs to. This method is particularly useful in cases where the specified tables have columns with the same name. For example, the `artists` table and the `albums` table both have an `ArtistId` field.\n",
    "\n",
    "However, the query above doesn't seem to have provided what we wanted. If we take a closer look and remove the `LIMIT` keyword, we  notice that each artist has written every album in the table (despite other artists having written the same album). \n",
    "\n",
    "This is because we need to align the records between the tables, making sure that the relevant records in one table correspond to the correct records in the second table. We can achieve this by using the `WHERE` clause to connect the tables using a common field between the two tables.\n",
    "\n",
    "The query would look like this:\n",
    "\n",
    "```SQL\n",
    "SELECT table1.field1, table2.field3 \n",
    "FROM table1, table2\n",
    "WHERE table1.field1_id = table2.field1_id;\n",
    "```\n",
    "\n",
    "Let's rewrite the above query, but this time using the `WHERE` clause to align the records **where the `Artistid` in the `artists` table is the same as the `Artistid` in the `albums` table**.\n"
   ]
  },
  {
   "cell_type": "code",
   "execution_count": 9,
   "id": "03071e34",
   "metadata": {},
   "outputs": [
    {
     "name": "stdout",
     "output_type": "stream",
     "text": [
      " * sqlite:///chinook.db\n",
      "Done.\n"
     ]
    },
    {
     "data": {
      "text/html": [
       "<table>\n",
       "    <thead>\n",
       "        <tr>\n",
       "            <th>Title</th>\n",
       "            <th>Name</th>\n",
       "        </tr>\n",
       "    </thead>\n",
       "    <tbody>\n",
       "        <tr>\n",
       "            <td>For Those About To Rock We Salute You</td>\n",
       "            <td>AC/DC</td>\n",
       "        </tr>\n",
       "        <tr>\n",
       "            <td>Balls to the Wall</td>\n",
       "            <td>Accept</td>\n",
       "        </tr>\n",
       "        <tr>\n",
       "            <td>Restless and Wild</td>\n",
       "            <td>Accept</td>\n",
       "        </tr>\n",
       "        <tr>\n",
       "            <td>Let There Be Rock</td>\n",
       "            <td>AC/DC</td>\n",
       "        </tr>\n",
       "        <tr>\n",
       "            <td>Big Ones</td>\n",
       "            <td>Aerosmith</td>\n",
       "        </tr>\n",
       "        <tr>\n",
       "            <td>Jagged Little Pill</td>\n",
       "            <td>Alanis Morissette</td>\n",
       "        </tr>\n",
       "        <tr>\n",
       "            <td>Facelift</td>\n",
       "            <td>Alice In Chains</td>\n",
       "        </tr>\n",
       "        <tr>\n",
       "            <td>Warner 25 Anos</td>\n",
       "            <td>Antônio Carlos Jobim</td>\n",
       "        </tr>\n",
       "        <tr>\n",
       "            <td>Plays Metallica By Four Cellos</td>\n",
       "            <td>Apocalyptica</td>\n",
       "        </tr>\n",
       "        <tr>\n",
       "            <td>Audioslave</td>\n",
       "            <td>Audioslave</td>\n",
       "        </tr>\n",
       "    </tbody>\n",
       "</table>"
      ],
      "text/plain": [
       "[('For Those About To Rock We Salute You', 'AC/DC'),\n",
       " ('Balls to the Wall', 'Accept'),\n",
       " ('Restless and Wild', 'Accept'),\n",
       " ('Let There Be Rock', 'AC/DC'),\n",
       " ('Big Ones', 'Aerosmith'),\n",
       " ('Jagged Little Pill', 'Alanis Morissette'),\n",
       " ('Facelift', 'Alice In Chains'),\n",
       " ('Warner 25 Anos', 'Antônio Carlos Jobim'),\n",
       " ('Plays Metallica By Four Cellos', 'Apocalyptica'),\n",
       " ('Audioslave', 'Audioslave')]"
      ]
     },
     "execution_count": 9,
     "metadata": {},
     "output_type": "execute_result"
    }
   ],
   "source": [
    "%%sql\n",
    "\n",
    "SELECT albums.Title, artists.Name\n",
    "FROM albums, artists\n",
    "WHERE artists.Artistid = albums.Artistid\n",
    "LIMIT 10;"
   ]
  },
  {
   "cell_type": "markdown",
   "id": "761eb48c",
   "metadata": {},
   "source": [
    "Unlike before, the returned data are aligned perfectly between both tables. We were able to get all albums and the corresponding artists."
   ]
  },
  {
   "cell_type": "markdown",
   "id": "6d8d9bdd",
   "metadata": {},
   "source": [
    "<div align=\"center\" style=\" font-size: 80%; text-align: center; margin: 0 auto\">\n",
    "<img src=\"https://raw.githubusercontent.com/Explore-AI/Pictures/refs/heads/master/ALX_banners/ALX_Navy.png\"  style=\"width:100px\"  ;/>\n",
    "</div>"
   ]
  }
 ],
 "metadata": {
  "kernelspec": {
   "display_name": "Python 3 (ipykernel)",
   "language": "python",
   "name": "python3"
  },
  "language_info": {
   "codemirror_mode": {
    "name": "ipython",
    "version": 3
   },
   "file_extension": ".py",
   "mimetype": "text/x-python",
   "name": "python",
   "nbconvert_exporter": "python",
   "pygments_lexer": "ipython3",
   "version": "3.13.5"
  }
 },
 "nbformat": 4,
 "nbformat_minor": 5
}
